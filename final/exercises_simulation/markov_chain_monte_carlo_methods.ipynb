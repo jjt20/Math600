{
 "cells": [
  {
   "cell_type": "markdown",
   "metadata": {},
   "source": [
    "# Optimisation & Simulation: Lab on MCMC methods\n",
    "\n",
    "**Objective:**\n",
    "- Use Markov chain Monte Carlo (MCMC) methods to draw from complex distributions.\n",
    "\n",
    "**Implementation:**\n",
    "- Gibbs sampling\n",
    "- Metropolis-Hastings algorithm\n",
    "\n",
    "**Agenda:**\n",
    "1. Implement Gibbs sampler to generate draws from bivariate normal.\n",
    "2. Implement Metropolis-Hastings algorithms to infer posterior distribution of parameters of Cauchy distribution. "
   ]
  },
  {
   "cell_type": "markdown",
   "metadata": {},
   "source": [
    "## Gibbs sampling\n",
    "\n",
    "### Background\n",
    "\n",
    "**Motivation and intuition:**\n",
    "- Draw from multivariate distributions from which direct sampling is difficult.\n",
    "- Construct conditional distributions from which sampling is easy. \n",
    "- Iteratively draw from conditional distributions. \n",
    "\n",
    "\n",
    "- Suppose we wish to sample $\\theta_{1}, \\theta_{2} \\sim p(\\theta_{1}, \\theta_{2})$ but cannot do so directly. \n",
    "- However, we can sample $\\theta_{1} \\sim p(\\theta_{1} \\vert \\theta_{2})$ and $\\theta_{2} \\sim p(\\theta_{2} \\vert \\theta_{1})$.\n",
    "\n",
    "**Algorithm:**\n",
    "1. Set $j = 0$. \n",
    "2. Provide initial values $(\\theta_{1}^{(0)}, \\theta_{2}^{(0)})$. \n",
    "3. Set $j = j + 1$. \n",
    "4. $\\theta_{1}^{(j)} \\sim p(\\theta_{1}^{(j)} \\vert \\theta_{2}^{(j-1)})$.\n",
    "5. $\\theta_{2}^{(j)} \\sim p(\\theta_{2}^{(j)} \\vert \\theta_{1}^{(j)})$.\n",
    "6. If $j$ is less than the desired number of draws, return to step 3.\n",
    "\n",
    "### Exercise\n",
    "- Implement a Gibbs sampler to draw from a bivariate normal, i.e. \n",
    "$$\n",
    "\\begin{pmatrix}\n",
    "\\theta_{1} \\\\ \\theta_{2}\n",
    "\\end{pmatrix}\n",
    "\\sim\n",
    "\\mathcal{N} (\\boldsymbol{\\mu}, \\boldsymbol{\\Sigma})\n",
    "\\text{ with }\n",
    "\\boldsymbol{\\mu} = \\boldsymbol{0},\n",
    "\\boldsymbol{\\Sigma} = \n",
    "\\begin{pmatrix}\n",
    "1 & \\rho \\\\\n",
    "\\rho & 1 \n",
    "\\end{pmatrix},\n",
    "\\rho = 0.8\n",
    "$$\n",
    "- Visually compare the empirical density of the draws to the theoretical density of the sampling distribution. \n",
    "\n",
    "**Note:**\n",
    "- If\n",
    "$$\n",
    "\\begin{pmatrix}\n",
    "\\theta_{1} \\\\ \\theta_{2}\n",
    "\\end{pmatrix}\n",
    "\\sim\n",
    "\\mathcal{N} \\left (\\boldsymbol{0}, \n",
    "\\begin{pmatrix}\n",
    "1 & \\rho \\\\\n",
    "\\rho & 1 \n",
    "\\end{pmatrix}\n",
    "\\right ),\n",
    "$$\n",
    "then \n",
    "$$\n",
    "\\theta_{1} \\vert \\theta_{2} \\sim \\mathcal{N}(\\rho \\theta_{2}, 1 - \\rho^{2}),\n",
    "$$\n",
    "$$\n",
    "\\theta_{2} \\vert \\theta_{1} \\sim \\mathcal{N}(\\rho \\theta_{1}, 1 - \\rho^{2}).\n",
    "$$"
   ]
  },
  {
   "cell_type": "markdown",
   "metadata": {},
   "source": [
    "#### Implementation"
   ]
  },
  {
   "cell_type": "code",
   "execution_count": 1,
   "metadata": {},
   "outputs": [],
   "source": [
    "import numpy as np\n",
    "import pandas as pd\n",
    "import matplotlib.pyplot as plt\n",
    "import seaborn as sns\n",
    "from scipy.stats import multivariate_normal\n",
    "np.random.seed(6789)"
   ]
  },
  {
   "cell_type": "code",
   "execution_count": 2,
   "metadata": {},
   "outputs": [],
   "source": [
    "def gibbs(rho, theta2, n_draws):\n",
    "    \"\"\" Gibbs sampling of bivariate normal.\n",
    "    \n",
    "    Keywords:\n",
    "        rho (float): correlation parameter.\n",
    "        theta2 (float): initial value of theta2.\n",
    "        n_draws (int): number of draws.\n",
    "    \n",
    "    Returns:\n",
    "        theta (array): draws from bivariate normal.\n",
    "    \"\"\"\n",
    "    theta = np.zeros([2, n_draws+1]) # Use (n_draws+1) since the inital guess will be dropped\n",
    "    theta[1][0] = theta2 # Note that theta[0][0] is irrelevant\n",
    "    for i in range(n_draws):\n",
    "        theta[0][i+1] = np.random.normal(rho*theta[1][i],   np.sqrt(1 - rho**2))\n",
    "        theta[1][i+1] = np.random.normal(rho*theta[0][i+1], np.sqrt(1 - rho**2)) \n",
    "    theta = theta[:, 1:]\n",
    "    return theta"
   ]
  },
  {
   "cell_type": "code",
   "execution_count": 3,
   "metadata": {},
   "outputs": [],
   "source": [
    "rho = 0.8\n",
    "theta2 = 0\n",
    "n_draws = 1000\n",
    "\n",
    "draws = gibbs(rho, theta2, n_draws)"
   ]
  },
  {
   "cell_type": "code",
   "execution_count": 4,
   "metadata": {},
   "outputs": [
    {
     "data": {
      "image/png": "[encoded data removed]",
      "text/plain": [
       "<Figure size 432x288 with 1 Axes>"
      ]
     },
     "metadata": {
      "needs_background": "light"
     },
     "output_type": "display_data"
    }
   ],
   "source": [
    "fig = plt.figure()\n",
    "ax = plt.subplot(1,1,1)\n",
    "\n",
    "#Theoretical density\n",
    "mu = np.array([0, 0])\n",
    "Sigma = np.array([[1, rho], [rho, 1]])\n",
    "x = np.arange(-3,3,0.01)\n",
    "xx, yy = np.meshgrid(x,x)\n",
    "z = multivariate_normal.pdf(np.stack((xx, yy), axis=2), mu, Sigma)\n",
    "ax.contour(x, x, z)\n",
    "\n",
    "#Empirical draws\n",
    "ax = sns.kdeplot(\n",
    "    draws[0,:], y=draws[1,:],\n",
    "    cmap= \"Blues\" , shade = True\n",
    ")\n",
    "\n",
    "ax.set(\n",
    "    xlabel=r'$\\theta_1$',\n",
    "    ylabel=r'$\\theta_2$'\n",
    ")\n",
    "\n",
    "plt.show()"
   ]
  },
  {
   "cell_type": "markdown",
   "metadata": {},
   "source": [
    "## Metropolis-Hastings algorithm\n",
    "\n",
    "### Background\n",
    "\n",
    "**Motivation and intuition:**\n",
    "- Gibbs sampling is only feasible, if the conditional distributions are known and if it is easy to sample from them. \n",
    "- The Metropolis-Hastings algorithm allows us to sample from any density $p(\\theta)$, provided that we can evaluate $f(\\theta)$, a density that is proportional to $p$. \n",
    "- At each iteration, we sample a new state from a candidate distribution, which depends on the current state. \n",
    "- With some probability depending on the value of the target density at the new and the current states, the new state is accepted. \n",
    "- As the algorithm proceeds, the sampled states approximate the desired density. \n",
    "\n",
    "**Algorithm:**\n",
    "1. Set $j = 0$.\n",
    "2. Let $\\theta$ denote the current state.\n",
    "3. Let $p(\\theta \\vert x)$ denote the target density.\n",
    "4. Let $J(\\theta^{*} \\vert \\theta)$ denote the jumping distribution\n",
    "5. Let $\\rho$ denote the step size.\n",
    "6. Set $j = j + 1$. \n",
    "7. Propose a new state $\\theta^{*} \\vert \\theta \\sim J(\\theta)$.\n",
    "8. Calculate $\\alpha = \\frac{p(\\theta^{*} \\vert x)}{p(\\theta \\vert x)} \\cdot \\frac{J(\\theta \\vert \\theta^{*})}{J(\\theta^{*} \\vert \\theta)}$.\n",
    "9. Draw $r \\sim \\text{Uniform}(0,1)$.\n",
    "10. If $r \\leq \\alpha$, accept the new state and set $\\theta = \\theta^{*}$. Otherwise, reject the new state. \n",
    "11. If $j$ is less than the desired number of draws, return to step 5."
   ]
  },
  {
   "cell_type": "markdown",
   "metadata": {},
   "source": [
    "### Exercise \n",
    "- Simulate data from Cauchy distribution with location $\\mu = 1$ and scale $\\gamma = 1$.\n",
    "- Implement a Metroplis-Hastings algorithms to infer the posterior distribution of the scale parameter of the Cauchy distribution.\n",
    "- Consider two possible jumping distributions:\n",
    "- 1. $\\text{Normal}(\\theta, \\rho^2)$, where $\\rho$ is the step size.\n",
    "- 2. $\\text{Lognormal}(\\log(\\theta) - 0.5 \\rho^2, \\rho)$, where $\\rho$ is a distance parameter. Note that $\\text{Lognormal}(\\mu, \\sigma)$ denotes a lognormal distribution with location $\\mu$ and scale $\\sigma$.\n",
    "- Evaluate the performance of the algorithms for different parametrisations of the jumping distributions. Compute the potential scale reduction factors $\\hat{R}$ and the effective sample size $n_{\\text{eff}}$.\n",
    "\n",
    "Suppose\n",
    "- $x_{i} \\sim \\mathcal{C}(\\mu, \\gamma)$ for $i \\in \\{1, \\dots, N\\}$\n",
    "- $\\gamma \\sim \\text{Gamma}(\\alpha_{0}, \\beta_{0})$ with $\\alpha_{0} = \\beta_{0} = 0.001$.\n",
    "\n",
    "Then\n",
    "$$\n",
    "p(\\gamma \\vert x, \\mu, \\alpha_{0}, \\beta_{0}) \n",
    "\\propto \\left ( \\prod_{i} p(x_{i} \\vert \\mu, \\gamma) \\right ) p(\\gamma \\vert \\alpha_{0}, \\beta_{0})\n",
    "$$\n",
    "\n",
    "**Note:**\n",
    "- PDF of Cauchy distribution:\n",
    "$$\n",
    "f(x \\vert \\mu, \\gamma) = \\frac{1}{\\pi \\gamma \\left [ 1 + \\left (\\frac{x - \\mu}{\\gamma} \\right )^{2} \\right ]}\n",
    "$$\n",
    "- Quantile function of Cauchy distribution:\n",
    "$$\n",
    "Q = \\mu + \\gamma \\cdot \\text{tan}\\left [ \\pi \\left ( F - \\frac{1}{2} \\right ) \\right ]\n",
    "$$"
   ]
  },
  {
   "cell_type": "markdown",
   "metadata": {},
   "source": [
    "#### Cauchy random draws"
   ]
  },
  {
   "cell_type": "code",
   "execution_count": 5,
   "metadata": {},
   "outputs": [],
   "source": [
    "def cauchy_rng(mu, gamma, n_draws):\n",
    "    \"\"\" Generate cauchy random numbers.\n",
    "    \n",
    "    Keywords:\n",
    "        mu (float): location parameter.\n",
    "        gamma (float): scale parameter.\n",
    "        n_draws (int): number of draws.\n",
    "    \n",
    "    Returns:\n",
    "        r (array): n_draws draws from Cauchy(mu, gamma).\n",
    "    \"\"\"\n",
    "    u = np.random.rand(n_draws,)\n",
    "    r = mu + gamma * np.tan(np.pi * (u - 0.5))\n",
    "    return r"
   ]
  },
  {
   "cell_type": "code",
   "execution_count": 6,
   "metadata": {},
   "outputs": [],
   "source": [
    "mu = 1\n",
    "gamma_true = 1\n",
    "n_draws = 1000\n",
    "x = cauchy_rng(mu, gamma_true, n_draws)"
   ]
  },
  {
   "cell_type": "markdown",
   "metadata": {},
   "source": [
    "#### Normal jumping distribution\n",
    "##### Implementation"
   ]
  },
  {
   "cell_type": "code",
   "execution_count": 7,
   "metadata": {},
   "outputs": [],
   "source": [
    "def rhat_n_eff(draws):\n",
    "    \"\"\" Computes potential scale reduction factor and effective sample size.\n",
    "    \n",
    "    Keywords:\n",
    "        draws (1d-array): draws\n",
    "    \n",
    "    Returns:\n",
    "        R (float): potential scale reduction factor.\n",
    "        n_eff (float): effective sample size.\n",
    "    \"\"\"\n",
    "    #Reshape draws\n",
    "    psi_cd = np.array(draws).reshape(2,-1)\n",
    "    C, D = psi_cd.shape\n",
    "    \n",
    "    #Rhat\n",
    "    psi_c = psi_cd.mean(axis=1, keepdims=True)\n",
    "    psi = psi_c.mean()\n",
    "    B = D / (C - 1) * np.sum((psi_c - psi)**2) #Between-chain variance\n",
    "    s2_c = 1 / (D - 1) * np.sum((psi_cd - psi_c)**2, axis=1)\n",
    "    W = s2_c.mean() #Within-chain variance\n",
    "    var = (D - 1) / D * W + 1 / D * B\n",
    "    R = np.sqrt(var / W)\n",
    "    \n",
    "    #Effective sample size\n",
    "    V = lambda t: ((psi_cd[:,t:] - psi_cd[:,:(D-t)])**2).sum() / (C * (D - t)) #Variogram\n",
    "    negative_autocorr = False\n",
    "    t = 1\n",
    "    rho = np.ones(D)\n",
    "    while not negative_autocorr and (t < D):\n",
    "        rho[t] = 1 - V(t) / (2 * var)\n",
    "        if not t % 2:\n",
    "            negative_autocorr = np.sum(rho[t-1:t+1]) < 0\n",
    "        t += 1\n",
    "    n_eff = C * D / (1 + 2 * np.sum(rho[1:t]))\n",
    "    \n",
    "    return R, n_eff"
   ]
  },
  {
   "cell_type": "code",
   "execution_count": 8,
   "metadata": {},
   "outputs": [],
   "source": [
    "def mcmc_normal(x, mu, gamma, alpha0, beta0, rho, n_burn, n_keep):\n",
    "    \"\"\" MCMC algorithm with normal jumping distribution to estimate posterior of Cauchy scale parameter.\n",
    "    \n",
    "    Keywords:\n",
    "        x (array): data.\n",
    "        mu (float): Cauchy location parameter.\n",
    "        gamma (float): Cauchy scale parameter.\n",
    "        alpha0 (float): Gamma shape, gamma ~ Gamma(alpha0, beta0).\n",
    "        beta0 (float): Gamma rate, gamma ~ Gamma(alpha0, beta0).\n",
    "        rho (float): step size.\n",
    "        n_burn (int): burn in draws.\n",
    "        n_keep (int): number of draws to keep after burn-in. \n",
    "    \n",
    "    Returns:\n",
    "        gamma_store (array): gamma draws.\n",
    "        accept_store (array): accept flags.\n",
    "    \"\"\"\n",
    "    gamma_store  = np.zeros((n_keep,))\n",
    "    accept_store = np.zeros((n_keep,), dtype='bool')\n",
    "    \n",
    "    # Likelihood with logaritmic scale: computed using the PDF of the Cauchy distribution\n",
    "    loglikelihood = -np.sum(np.log(gamma) + np.log(1 + ((x - mu)/gamma)**2))\n",
    "    # Prior with logaritmic scale: gamma ~ Gamma(alpha0, beta0)\n",
    "    logprior = (alpha0 - 1)*np.log(gamma) - beta0*gamma\n",
    "    # Posterior distribution with logaritmic scale\n",
    "    logposterior = loglikelihood + logprior\n",
    "    \n",
    "    for j in range(n_burn + n_keep):\n",
    "        # Propose a new state theta_star|theta ~ Normal(theta, rho**2) : jumping distribution\n",
    "        gamma_star = np.random.normal(gamma, rho) # Mean and standard deviation\n",
    "        \n",
    "        # Discard unrealistic candidate states: gamma is a location parameter!\n",
    "        if gamma_star <= 0:\n",
    "            pass\n",
    "        else:\n",
    "            # Likelihood with logaritmic scale: computed using the PDF of the Cauchy distribution\n",
    "            loglikelihood_star = -np.sum(np.log(gamma_star) + np.log(1 + ((x - mu)/gamma_star)**2))\n",
    "            # Prior with logaritmic scale: gamma ~ Gamma(alpha0, beta0)\n",
    "            logprior_star = (alpha0 - 1)*np.log(gamma_star) - beta0*gamma_star\n",
    "            # Posterior distribution with logaritmic scale\n",
    "            logposterior_star = loglikelihood_star + logprior_star\n",
    "            \n",
    "            # Compute the acceptance ratio...\n",
    "            logalpha = logposterior_star - logposterior # Jumping distribution is simmetric: J(theta|theta_star) = J(theta_star|theta)\n",
    "            # ...and decide whether to accept or reject the proposal next state\n",
    "            if np.log(np.random.rand()) <= logalpha:\n",
    "                gamma = gamma_star\n",
    "                logposterior = logposterior_star\n",
    "        if j >= n_burn:\n",
    "            accept_store[j-n_burn] = (gamma == gamma_star) \n",
    "            gamma_store[j-n_burn] = gamma\n",
    "\n",
    "    return gamma_store, accept_store     "
   ]
  },
  {
   "cell_type": "code",
   "execution_count": 9,
   "metadata": {},
   "outputs": [],
   "source": [
    "mu = 1\n",
    "gamma = 0.1\n",
    "alpha0 = 0.001\n",
    "beta0 = 0.001\n",
    "rho = 0.1\n",
    "n_burn = 1000\n",
    "n_keep = 1000\n",
    "\n",
    "gamma_store, accept_store = mcmc_normal(x, mu, gamma, alpha0, beta0, rho, n_burn, n_keep)"
   ]
  },
  {
   "cell_type": "code",
   "execution_count": 10,
   "metadata": {},
   "outputs": [
    {
     "data": {
      "text/plain": [
       "1.0036190414051098"
      ]
     },
     "execution_count": 10,
     "metadata": {},
     "output_type": "execute_result"
    }
   ],
   "source": [
    "gamma_store.mean()"
   ]
  },
  {
   "cell_type": "code",
   "execution_count": 11,
   "metadata": {},
   "outputs": [
    {
     "data": {
      "text/plain": [
       "0.04492918101984585"
      ]
     },
     "execution_count": 11,
     "metadata": {},
     "output_type": "execute_result"
    }
   ],
   "source": [
    "gamma_store.std()"
   ]
  },
  {
   "cell_type": "code",
   "execution_count": 12,
   "metadata": {},
   "outputs": [
    {
     "data": {
      "text/plain": [
       "0.449"
      ]
     },
     "execution_count": 12,
     "metadata": {},
     "output_type": "execute_result"
    }
   ],
   "source": [
    "accept_store.mean()"
   ]
  },
  {
   "cell_type": "code",
   "execution_count": 13,
   "metadata": {},
   "outputs": [
    {
     "data": {
      "text/plain": [
       "(1.0059998277881341, 170.19377331626936)"
      ]
     },
     "execution_count": 13,
     "metadata": {},
     "output_type": "execute_result"
    }
   ],
   "source": [
    "rhat_n_eff(gamma_store)"
   ]
  },
  {
   "cell_type": "code",
   "execution_count": 14,
   "metadata": {},
   "outputs": [],
   "source": [
    "rho_test = [0.00001, 0.0001, 0.001, 0.01, 0.1, 0.15, 0.2, 0.25, 0.5, 1]\n",
    "\n",
    "gamma_store_all = {}\n",
    "gamma_mean = []\n",
    "gamma_std = []\n",
    "gamma_accept = []\n",
    "gamma_rhat = []\n",
    "gamma_n_eff = []\n",
    "\n",
    "for rho in rho_test:\n",
    "    gamma_store, accept_store = mcmc_normal(x, mu, gamma, alpha0, beta0, rho, n_burn, n_keep)\n",
    "    rhat, n_eff = rhat_n_eff(gamma_store)\n",
    "    \n",
    "    gamma_store_all[rho] = gamma_store\n",
    "    gamma_mean.append(gamma_store.mean())\n",
    "    gamma_std.append(gamma_store.std())\n",
    "    gamma_accept.append(accept_store.mean())\n",
    "    gamma_rhat.append(rhat)\n",
    "    gamma_n_eff.append(n_eff)"
   ]
  },
  {
   "cell_type": "code",
   "execution_count": 15,
   "metadata": {},
   "outputs": [
    {
     "data": {
      "text/html": [
       "<div>\n",
       "<style scoped>\n",
       "    .dataframe tbody tr th:only-of-type {\n",
       "        vertical-align: middle;\n",
       "    }\n",
       "\n",
       "    .dataframe tbody tr th {\n",
       "        vertical-align: top;\n",
       "    }\n",
       "\n",
       "    .dataframe thead th {\n",
       "        text-align: right;\n",
       "    }\n",
       "</style>\n",
       "<table border=\"1\" class=\"dataframe\">\n",
       "  <thead>\n",
       "    <tr style=\"text-align: right;\">\n",
       "      <th></th>\n",
       "      <th>rho</th>\n",
       "      <th>Post. mean</th>\n",
       "      <th>Post. std.</th>\n",
       "      <th>Acceptance ratio</th>\n",
       "      <th>Rhat</th>\n",
       "      <th>n_eff</th>\n",
       "    </tr>\n",
       "  </thead>\n",
       "  <tbody>\n",
       "    <tr>\n",
       "      <th>0</th>\n",
       "      <td>0.00001</td>\n",
       "      <td>0.101168</td>\n",
       "      <td>0.000196</td>\n",
       "      <td>0.966</td>\n",
       "      <td>1.447388</td>\n",
       "      <td>2.779525</td>\n",
       "    </tr>\n",
       "    <tr>\n",
       "      <th>1</th>\n",
       "      <td>0.00010</td>\n",
       "      <td>0.128155</td>\n",
       "      <td>0.005282</td>\n",
       "      <td>0.798</td>\n",
       "      <td>2.359136</td>\n",
       "      <td>1.542426</td>\n",
       "    </tr>\n",
       "    <tr>\n",
       "      <th>2</th>\n",
       "      <td>0.00100</td>\n",
       "      <td>0.544681</td>\n",
       "      <td>0.061449</td>\n",
       "      <td>0.835</td>\n",
       "      <td>2.397739</td>\n",
       "      <td>1.483760</td>\n",
       "    </tr>\n",
       "    <tr>\n",
       "      <th>3</th>\n",
       "      <td>0.01000</td>\n",
       "      <td>1.004575</td>\n",
       "      <td>0.043594</td>\n",
       "      <td>0.930</td>\n",
       "      <td>1.137127</td>\n",
       "      <td>10.225535</td>\n",
       "    </tr>\n",
       "    <tr>\n",
       "      <th>4</th>\n",
       "      <td>0.10000</td>\n",
       "      <td>1.006223</td>\n",
       "      <td>0.043896</td>\n",
       "      <td>0.456</td>\n",
       "      <td>1.019910</td>\n",
       "      <td>186.034634</td>\n",
       "    </tr>\n",
       "    <tr>\n",
       "      <th>5</th>\n",
       "      <td>0.15000</td>\n",
       "      <td>1.002586</td>\n",
       "      <td>0.044208</td>\n",
       "      <td>0.336</td>\n",
       "      <td>1.014167</td>\n",
       "      <td>154.750971</td>\n",
       "    </tr>\n",
       "    <tr>\n",
       "      <th>6</th>\n",
       "      <td>0.20000</td>\n",
       "      <td>1.004782</td>\n",
       "      <td>0.043239</td>\n",
       "      <td>0.276</td>\n",
       "      <td>1.000532</td>\n",
       "      <td>126.700682</td>\n",
       "    </tr>\n",
       "    <tr>\n",
       "      <th>7</th>\n",
       "      <td>0.25000</td>\n",
       "      <td>0.998906</td>\n",
       "      <td>0.039585</td>\n",
       "      <td>0.226</td>\n",
       "      <td>0.999409</td>\n",
       "      <td>156.098867</td>\n",
       "    </tr>\n",
       "    <tr>\n",
       "      <th>8</th>\n",
       "      <td>0.50000</td>\n",
       "      <td>1.002802</td>\n",
       "      <td>0.038700</td>\n",
       "      <td>0.101</td>\n",
       "      <td>0.999903</td>\n",
       "      <td>68.226633</td>\n",
       "    </tr>\n",
       "    <tr>\n",
       "      <th>9</th>\n",
       "      <td>1.00000</td>\n",
       "      <td>1.006227</td>\n",
       "      <td>0.046200</td>\n",
       "      <td>0.062</td>\n",
       "      <td>1.010442</td>\n",
       "      <td>23.503859</td>\n",
       "    </tr>\n",
       "  </tbody>\n",
       "</table>\n",
       "</div>"
      ],
      "text/plain": [
       "       rho  Post. mean  Post. std.  Acceptance ratio      Rhat       n_eff\n",
       "0  0.00001    0.101168    0.000196             0.966  1.447388    2.779525\n",
       "1  0.00010    0.128155    0.005282             0.798  2.359136    1.542426\n",
       "2  0.00100    0.544681    0.061449             0.835  2.397739    1.483760\n",
       "3  0.01000    1.004575    0.043594             0.930  1.137127   10.225535\n",
       "4  0.10000    1.006223    0.043896             0.456  1.019910  186.034634\n",
       "5  0.15000    1.002586    0.044208             0.336  1.014167  154.750971\n",
       "6  0.20000    1.004782    0.043239             0.276  1.000532  126.700682\n",
       "7  0.25000    0.998906    0.039585             0.226  0.999409  156.098867\n",
       "8  0.50000    1.002802    0.038700             0.101  0.999903   68.226633\n",
       "9  1.00000    1.006227    0.046200             0.062  1.010442   23.503859"
      ]
     },
     "execution_count": 15,
     "metadata": {},
     "output_type": "execute_result"
    }
   ],
   "source": [
    "results = pd.DataFrame(\n",
    "    data={\n",
    "        'rho': rho_test,\n",
    "        'Post. mean': gamma_mean,\n",
    "        'Post. std.': gamma_std,\n",
    "        'Acceptance ratio': gamma_accept,\n",
    "        'Rhat': gamma_rhat,\n",
    "        'n_eff': gamma_n_eff\n",
    "    }\n",
    ")\n",
    "results"
   ]
  },
  {
   "cell_type": "markdown",
   "metadata": {},
   "source": [
    "##### Trace plot"
   ]
  },
  {
   "cell_type": "code",
   "execution_count": 16,
   "metadata": {},
   "outputs": [
    {
     "data": {
      "image/png": "[encoded data removed]",
      "text/plain": [
       "<Figure size 432x288 with 1 Axes>"
      ]
     },
     "metadata": {
      "needs_background": "light"
     },
     "output_type": "display_data"
    }
   ],
   "source": [
    "fig, ax = plt.subplots(1,1)\n",
    "ax.plot(gamma_store_all[1], label = 'Chain 1')\n",
    "plt.axhline(gamma_true, color=\"black\", linestyle=\"--\", label='Truth')\n",
    "\n",
    "ax.set(xlabel = 'Iteration after burn in', ylabel = r'$\\gamma$',\n",
    "       title= r'Trace plot of posterior draws of $\\gamma$')\n",
    "plt.legend()\n",
    "ax.grid()"
   ]
  },
  {
   "cell_type": "markdown",
   "metadata": {},
   "source": [
    "#### Lognormal jumping distribution\n",
    "##### Implementation"
   ]
  },
  {
   "cell_type": "code",
   "execution_count": 17,
   "metadata": {},
   "outputs": [],
   "source": [
    "def lognormal_lpdf(x, mu, sigma):\n",
    "    lpdf = -np.log(x) - (np.log(x) - mu)**2 / 2 / sigma**2\n",
    "    return lpdf\n",
    "\n",
    "def mcmc_lognormal(x, mu, gamma, alpha0, beta0, rho, n_burn, n_keep):\n",
    "    \"\"\" MCMC algorithm with lognormal jumping distribution to estimate posterior of Cauchy scale parameter.\n",
    "    \n",
    "    Keywords:\n",
    "        x (array): data.\n",
    "        mu (float): Cauchy location parameter.\n",
    "        gamma (float): Cauchy scale parameter.\n",
    "        alpha0 (float): Gamma shape, gamma ~ Gamma(alpha0, beta0).\n",
    "        beta0 (float): Gamma rate, gamma ~ Gamma(alpha0, beta0).\n",
    "        rho (float): step size.\n",
    "        n_burn (int): burn in draws.\n",
    "        n_keep (int): number of draws to keep after burn-in. \n",
    "    \n",
    "    Returns:\n",
    "        gamma_store (array): gamma draws.\n",
    "        accept_store (array): accept flags.\n",
    "    \"\"\"\n",
    "    gamma_store  = np.zeros((n_keep,))\n",
    "    accept_store = np.zeros((n_keep,), dtype='bool')\n",
    "    \n",
    "    # Likelihood with logaritmic scale: computed using the PDF of the Cauchy distribution\n",
    "    loglikelihood = -np.sum(np.log(gamma) + np.log(1 + ((x - mu)/gamma)**2))\n",
    "    # Prior with logaritmic scale: gamma ~ Gamma(alpha0, beta0)\n",
    "    logprior = (alpha0 - 1)*np.log(gamma) - beta0*gamma\n",
    "    # Posterior distribution with logaritmic scale\n",
    "    logposterior = loglikelihood + logprior\n",
    "    \n",
    "    for j in range(n_burn + n_keep):\n",
    "        # Propose a new state theta_star|theta ~ lognormal(log(theta) - 0.5*(rho**2), rho) : jumping distribution\n",
    "        gamma_star = np.random.lognormal(np.log(gamma) - 0.5*(rho**2), rho) # Location and scale\n",
    "        # Note that gamma_star will always be greater than 0!\n",
    "        \n",
    "        # Likelihood with logaritmic scale: computed using the PDF of the Cauchy distribution\n",
    "        loglikelihood_star = -np.sum(np.log(gamma_star) + np.log(1 + ((x - mu)/gamma_star)**2))\n",
    "        # Prior with logaritmic scale: gamma ~ Gamma(alpha0, beta0)\n",
    "        logprior_star = (alpha0 - 1)*np.log(gamma_star) - beta0*gamma_star\n",
    "        # Posterior distribution with logaritmic scale\n",
    "        logposterior_star = loglikelihood_star + logprior_star\n",
    "        \n",
    "        # Jumping distribution is not simmetric: J(theta|theta_star) \\neq J(theta_star|theta)        \n",
    "        logJgamma_star_gamma = lognormal_lpdf(gamma_star, np.log(gamma) - 0.5*(rho**2), rho)\n",
    "        logJgamma_gamma_star = lognormal_lpdf(gamma, np.log(gamma_star) - 0.5*(rho**2), rho)\n",
    "        \n",
    "        # Compute the acceptance ratio...\n",
    "        logalpha = logposterior_star - logposterior + logJgamma_gamma_star - logJgamma_star_gamma\n",
    "        # ...and decide whether to accept or reject the proposal next state\n",
    "        if np.log(np.random.rand()) <= logalpha:\n",
    "            gamma = gamma_star\n",
    "            logposterior = logposterior_star\n",
    "            \n",
    "        if j >= n_burn:\n",
    "            accept_store[j-n_burn] = (gamma == gamma_star) \n",
    "            gamma_store[j-n_burn] = gamma\n",
    "\n",
    "    return gamma_store, accept_store "
   ]
  },
  {
   "cell_type": "code",
   "execution_count": 18,
   "metadata": {},
   "outputs": [],
   "source": [
    "mu = 1\n",
    "gamma = 0.1\n",
    "alpha0 = 0.001\n",
    "beta0 = 0.001\n",
    "rho = 0.1\n",
    "n_burn = 1000\n",
    "n_keep = 1000\n",
    "\n",
    "gamma_store, accept_store = mcmc_lognormal(x, mu, gamma, alpha0, beta0, rho, n_burn, n_keep)"
   ]
  },
  {
   "cell_type": "code",
   "execution_count": 19,
   "metadata": {},
   "outputs": [
    {
     "data": {
      "text/plain": [
       "1.0014469108488842"
      ]
     },
     "execution_count": 19,
     "metadata": {},
     "output_type": "execute_result"
    }
   ],
   "source": [
    "gamma_store.mean()"
   ]
  },
  {
   "cell_type": "code",
   "execution_count": 20,
   "metadata": {},
   "outputs": [
    {
     "data": {
      "text/plain": [
       "0.042612571662050173"
      ]
     },
     "execution_count": 20,
     "metadata": {},
     "output_type": "execute_result"
    }
   ],
   "source": [
    "gamma_store.std()"
   ]
  },
  {
   "cell_type": "code",
   "execution_count": 21,
   "metadata": {},
   "outputs": [
    {
     "data": {
      "text/plain": [
       "0.465"
      ]
     },
     "execution_count": 21,
     "metadata": {},
     "output_type": "execute_result"
    }
   ],
   "source": [
    "accept_store.mean()"
   ]
  },
  {
   "cell_type": "code",
   "execution_count": 22,
   "metadata": {},
   "outputs": [
    {
     "data": {
      "text/plain": [
       "(1.0001019642536355, 214.35556539147004)"
      ]
     },
     "execution_count": 22,
     "metadata": {},
     "output_type": "execute_result"
    }
   ],
   "source": [
    "rhat_n_eff(gamma_store)"
   ]
  },
  {
   "cell_type": "code",
   "execution_count": 23,
   "metadata": {},
   "outputs": [],
   "source": [
    "rho_test = [0.00001, 0.0001, 0.001, 0.01, 0.1, 0.15, 0.2, 0.25, 0.5, 1]\n",
    "\n",
    "gamma_store_all = {}\n",
    "gamma_mean = []\n",
    "gamma_std = []\n",
    "gamma_accept = []\n",
    "gamma_rhat = []\n",
    "gamma_n_eff = []\n",
    "\n",
    "for rho in rho_test:\n",
    "    gamma_store, accept_store = mcmc_lognormal(x, mu, gamma, alpha0, beta0, rho, n_burn, n_keep)\n",
    "    rhat, n_eff = rhat_n_eff(gamma_store)\n",
    "    \n",
    "    gamma_store_all[rho] = gamma_store\n",
    "    gamma_mean.append(gamma_store.mean())\n",
    "    gamma_std.append(gamma_store.std())\n",
    "    gamma_accept.append(accept_store.mean())\n",
    "    gamma_rhat.append(rhat)\n",
    "    gamma_n_eff.append(n_eff)"
   ]
  },
  {
   "cell_type": "code",
   "execution_count": 24,
   "metadata": {},
   "outputs": [
    {
     "data": {
      "text/html": [
       "<div>\n",
       "<style scoped>\n",
       "    .dataframe tbody tr th:only-of-type {\n",
       "        vertical-align: middle;\n",
       "    }\n",
       "\n",
       "    .dataframe tbody tr th {\n",
       "        vertical-align: top;\n",
       "    }\n",
       "\n",
       "    .dataframe thead th {\n",
       "        text-align: right;\n",
       "    }\n",
       "</style>\n",
       "<table border=\"1\" class=\"dataframe\">\n",
       "  <thead>\n",
       "    <tr style=\"text-align: right;\">\n",
       "      <th></th>\n",
       "      <th>rho</th>\n",
       "      <th>Post. mean</th>\n",
       "      <th>Post. std.</th>\n",
       "      <th>Acceptance ratio</th>\n",
       "      <th>Rhat</th>\n",
       "      <th>n_eff</th>\n",
       "    </tr>\n",
       "  </thead>\n",
       "  <tbody>\n",
       "    <tr>\n",
       "      <th>0</th>\n",
       "      <td>0.00001</td>\n",
       "      <td>0.100034</td>\n",
       "      <td>0.000006</td>\n",
       "      <td>0.999</td>\n",
       "      <td>1.060280</td>\n",
       "      <td>7.295338</td>\n",
       "    </tr>\n",
       "    <tr>\n",
       "      <th>1</th>\n",
       "      <td>0.00010</td>\n",
       "      <td>0.100487</td>\n",
       "      <td>0.000103</td>\n",
       "      <td>0.969</td>\n",
       "      <td>1.257723</td>\n",
       "      <td>3.487889</td>\n",
       "    </tr>\n",
       "    <tr>\n",
       "      <th>2</th>\n",
       "      <td>0.00100</td>\n",
       "      <td>0.138143</td>\n",
       "      <td>0.007332</td>\n",
       "      <td>0.799</td>\n",
       "      <td>2.822500</td>\n",
       "      <td>1.319678</td>\n",
       "    </tr>\n",
       "    <tr>\n",
       "      <th>3</th>\n",
       "      <td>0.01000</td>\n",
       "      <td>0.986880</td>\n",
       "      <td>0.029772</td>\n",
       "      <td>0.949</td>\n",
       "      <td>1.009544</td>\n",
       "      <td>14.418407</td>\n",
       "    </tr>\n",
       "    <tr>\n",
       "      <th>4</th>\n",
       "      <td>0.10000</td>\n",
       "      <td>1.004328</td>\n",
       "      <td>0.046307</td>\n",
       "      <td>0.454</td>\n",
       "      <td>1.002790</td>\n",
       "      <td>283.231747</td>\n",
       "    </tr>\n",
       "    <tr>\n",
       "      <th>5</th>\n",
       "      <td>0.15000</td>\n",
       "      <td>0.997541</td>\n",
       "      <td>0.039769</td>\n",
       "      <td>0.346</td>\n",
       "      <td>1.019026</td>\n",
       "      <td>192.627420</td>\n",
       "    </tr>\n",
       "    <tr>\n",
       "      <th>6</th>\n",
       "      <td>0.20000</td>\n",
       "      <td>1.007475</td>\n",
       "      <td>0.043337</td>\n",
       "      <td>0.248</td>\n",
       "      <td>1.006545</td>\n",
       "      <td>124.278726</td>\n",
       "    </tr>\n",
       "    <tr>\n",
       "      <th>7</th>\n",
       "      <td>0.25000</td>\n",
       "      <td>1.002747</td>\n",
       "      <td>0.043471</td>\n",
       "      <td>0.220</td>\n",
       "      <td>1.005599</td>\n",
       "      <td>101.239284</td>\n",
       "    </tr>\n",
       "    <tr>\n",
       "      <th>8</th>\n",
       "      <td>0.50000</td>\n",
       "      <td>1.006432</td>\n",
       "      <td>0.040038</td>\n",
       "      <td>0.114</td>\n",
       "      <td>1.054282</td>\n",
       "      <td>42.804988</td>\n",
       "    </tr>\n",
       "    <tr>\n",
       "      <th>9</th>\n",
       "      <td>1.00000</td>\n",
       "      <td>0.999388</td>\n",
       "      <td>0.051492</td>\n",
       "      <td>0.065</td>\n",
       "      <td>0.999766</td>\n",
       "      <td>33.879498</td>\n",
       "    </tr>\n",
       "  </tbody>\n",
       "</table>\n",
       "</div>"
      ],
      "text/plain": [
       "       rho  Post. mean  Post. std.  Acceptance ratio      Rhat       n_eff\n",
       "0  0.00001    0.100034    0.000006             0.999  1.060280    7.295338\n",
       "1  0.00010    0.100487    0.000103             0.969  1.257723    3.487889\n",
       "2  0.00100    0.138143    0.007332             0.799  2.822500    1.319678\n",
       "3  0.01000    0.986880    0.029772             0.949  1.009544   14.418407\n",
       "4  0.10000    1.004328    0.046307             0.454  1.002790  283.231747\n",
       "5  0.15000    0.997541    0.039769             0.346  1.019026  192.627420\n",
       "6  0.20000    1.007475    0.043337             0.248  1.006545  124.278726\n",
       "7  0.25000    1.002747    0.043471             0.220  1.005599  101.239284\n",
       "8  0.50000    1.006432    0.040038             0.114  1.054282   42.804988\n",
       "9  1.00000    0.999388    0.051492             0.065  0.999766   33.879498"
      ]
     },
     "execution_count": 24,
     "metadata": {},
     "output_type": "execute_result"
    }
   ],
   "source": [
    "results = pd.DataFrame(\n",
    "    data={\n",
    "        'rho': rho_test,\n",
    "        'Post. mean': gamma_mean,\n",
    "        'Post. std.': gamma_std,\n",
    "        'Acceptance ratio': gamma_accept,\n",
    "        'Rhat': gamma_rhat,\n",
    "        'n_eff': gamma_n_eff\n",
    "    }\n",
    ")\n",
    "results"
   ]
  },
  {
   "cell_type": "markdown",
   "metadata": {},
   "source": [
    "##### Trace plot"
   ]
  },
  {
   "cell_type": "code",
   "execution_count": 25,
   "metadata": {},
   "outputs": [
    {
     "data": {
      "image/png": "[encoded data removed]",
      "text/plain": [
       "<Figure size 432x288 with 1 Axes>"
      ]
     },
     "metadata": {
      "needs_background": "light"
     },
     "output_type": "display_data"
    }
   ],
   "source": [
    "fig, ax = plt.subplots(1,1)\n",
    "ax.plot(gamma_store_all[0.1], label = 'Chain 1')\n",
    "plt.axhline(gamma_true, color=\"black\", linestyle=\"--\", label='Truth')\n",
    "\n",
    "ax.set(xlabel = 'Iteration after burn in', ylabel = r'$\\gamma$',\n",
    "       title= r'Trace plot of posterior draws of $\\gamma$')\n",
    "plt.legend()\n",
    "ax.grid()"
   ]
  }
 ],
 "metadata": {
  "kernelspec": {
   "display_name": "Python 3",
   "language": "python",
   "name": "python3"
  },
  "language_info": {
   "codemirror_mode": {
    "name": "ipython",
    "version": 3
   },
   "file_extension": ".py",
   "mimetype": "text/x-python",
   "name": "python",
   "nbconvert_exporter": "python",
   "pygments_lexer": "ipython3",
   "version": "3.8.5"
  }
 },
 "nbformat": 4,
 "nbformat_minor": 4
}

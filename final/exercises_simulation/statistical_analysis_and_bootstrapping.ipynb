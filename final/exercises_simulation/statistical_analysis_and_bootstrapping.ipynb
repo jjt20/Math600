{
 "cells": [
  {
   "cell_type": "code",
   "execution_count": 1,
   "metadata": {},
   "outputs": [],
   "source": [
    "import numpy as np\n",
    "import matplotlib.pyplot as plt\n",
    "from discrete_events_simulation import Scenario, simulate\n",
    "from IPython.display import clear_output\n",
    "clear_output() # Clear cell output that is produced when importing from 'discrete_events_simulation'\n",
    "np.random.seed(1234)"
   ]
  },
  {
   "cell_type": "markdown",
   "metadata": {},
   "source": [
    "# Statistical analysis\n",
    "## Moving mean and variance"
   ]
  },
  {
   "cell_type": "code",
   "execution_count": 2,
   "metadata": {},
   "outputs": [],
   "source": [
    "def moving_mean_var(new_data, old_mean, old_var, t):\n",
    "    \"\"\" Calculates moving sample mean and variance at time t.\n",
    "    \n",
    "    Keywords:\n",
    "        new_data (float): new data point arriving at time t.\n",
    "        old_mean (float): previous sample mean.\n",
    "        old_var (float): previous sample variance.\n",
    "        t (int): time index\n",
    "    \n",
    "    Returns:\n",
    "        new_mean (float): updated sample mean.\n",
    "        new_var (float): updated sample variance.\n",
    "    \"\"\"\n",
    "    \n",
    "    new_mean = old_mean + (new_data - old_mean)/(t + 1)\n",
    "    new_var = (1 - 1/t)*old_var + (t + 1)*(new_mean - old_mean)**2\n",
    "    \n",
    "    return new_mean, new_var"
   ]
  },
  {
   "cell_type": "markdown",
   "metadata": {},
   "source": [
    "## Queue simulation"
   ]
  },
  {
   "cell_type": "code",
   "execution_count": 3,
   "metadata": {},
   "outputs": [],
   "source": [
    "t = 0 # Counter for the simulation runs\n",
    "\n",
    "q_max_mean = 0 # Initialise the average of the maximum queue length to 0\n",
    "q_max_var = 0 # Initialise the variance of the maximum queue length to 0\n",
    "\n",
    "# Initialise empty lists that will collect: maximum queue length during a run of the simulator, evolution of the average and variance of the maximum queue length during the performed runs\n",
    "q_max_list, q_max_mean_list, q_max_var_list = ([] for i in range(3)) \n",
    "\n",
    "# Stopping criterion: achieve the target precision and perform at least 100 simulation runs\n",
    "precision = 0.1\n",
    "done = False\n",
    "\n",
    "# Main loop\n",
    "while not(done):\n",
    "    # Run the simulator\n",
    "    queues = simulate(Scenario())[1]\n",
    "    max_queue_length = max(queues)\n",
    "    \n",
    "    # Store the values obtained during each simulation run to perform a statistical analysis \n",
    "    if t == 0:\n",
    "        q_max_mean = max_queue_length # We only have one sample, don't need to update the variance!\n",
    "    else:\n",
    "        q_max_mean, q_max_var = moving_mean_var(max_queue_length, q_max_mean, q_max_var, t)\n",
    "    \n",
    "    q_max_list.append(max_queue_length)\n",
    "    q_max_mean_list.append(q_max_mean)\n",
    "    q_max_var_list.append(q_max_var)\n",
    "    \n",
    "    t += 1\n",
    "    if np.sqrt(q_max_var/t) < precision and t >= 100:\n",
    "        done = True # Exit the main loop"
   ]
  },
  {
   "cell_type": "markdown",
   "metadata": {},
   "source": [
    "Plot the mean maximum queue length and standard deviation"
   ]
  },
  {
   "cell_type": "code",
   "execution_count": 4,
   "metadata": {},
   "outputs": [
    {
     "data": {
      "image/png": "[encoded data removed]",
      "text/plain": [
       "<Figure size 432x288 with 1 Axes>"
      ]
     },
     "metadata": {
      "needs_background": "light"
     },
     "output_type": "display_data"
    }
   ],
   "source": [
    "fig, ax = plt.subplots()\n",
    "\n",
    "ax.plot(q_max_mean_list, label = 'Mean value')\n",
    "ax.plot(np.sqrt(q_max_var_list), label = 'Standard deviation')\n",
    "\n",
    "ax.set(xlabel = 'Epoch', ylabel = 'Maximum queue length', title = 'Queue simulation')\n",
    "ax.legend()\n",
    "\n",
    "plt.show()"
   ]
  },
  {
   "cell_type": "markdown",
   "metadata": {},
   "source": [
    "## Bootstrapping"
   ]
  },
  {
   "cell_type": "code",
   "execution_count": 5,
   "metadata": {},
   "outputs": [],
   "source": [
    "def bootstrap(data, f_statistic, draws):\n",
    "    \"\"\" Calculates the bootstrap mse of a statistic of choice\n",
    "    \n",
    "    Keywords:\n",
    "        data (array): data array.\n",
    "        f_statistic: function handle calculating the statistic of interest.\n",
    "        draws (int): number of bootstrap draws.\n",
    "    \n",
    "    Returns:\n",
    "        mse (float): mean square error of the statistic of interest.\n",
    "    \"\"\"\n",
    "    \n",
    "    theta = f_statistic(data) # Compute the desired statistic over the empirical distribution\n",
    "    mse = 0 # Initialise the mean square error to 0\n",
    "    for i in range(draws):\n",
    "        # Randomly choose samples from the dataset and recompute the statistic of interest\n",
    "        indexes = np.floor(data.shape[0]*np.random.rand(data.shape[0]))\n",
    "        samples = data[np.array(indexes).astype(int)]\n",
    "        # Compute the total squared error\n",
    "        mse += (theta - f_statistic(samples))**2\n",
    "    # Take the mean diving by the number of iterations    \n",
    "    mse = mse/draws\n",
    "         \n",
    "    return mse"
   ]
  },
  {
   "cell_type": "code",
   "execution_count": 6,
   "metadata": {},
   "outputs": [],
   "source": [
    "# Define some function handles calculating statistics of interest\n",
    "f_mean = lambda data: data.mean()\n",
    "f_percentile = lambda data: np.quantile(data, 0.95)\n",
    "f_max = lambda data: max(data)"
   ]
  },
  {
   "cell_type": "code",
   "execution_count": 7,
   "metadata": {},
   "outputs": [
    {
     "name": "stdout",
     "output_type": "stream",
     "text": [
      "Mean: 11.492826677006592\n",
      "Bootstrapped MSE: 0.008503166251230413\n",
      "Theoretical MSE:  0.009991010293195603\n",
      "\n",
      "95% percentile: 21.0\n",
      "Bootstrapped MSE: 0.11786000000000171\n",
      "\n",
      "Worst case: 35\n",
      "Bootstrapped MSE: 1.1\n"
     ]
    }
   ],
   "source": [
    "q_max_list = np.array(q_max_list) # For convenience\n",
    "\n",
    "# Mean of the maximum queue length\n",
    "empirical_mean = f_mean(q_max_list) # Equals to q_max_mean up to numerical imprecisions\n",
    "print(f'Mean: {empirical_mean}')\n",
    "bootstrap_mse_mean = bootstrap(q_max_list, f_mean, 500)\n",
    "print(f'Bootstrapped MSE: {bootstrap_mse_mean}')\n",
    "mse_mean = q_max_list.var()/q_max_list.shape[0]\n",
    "print(f'Theoretical MSE:  {mse_mean}\\n')\n",
    "\n",
    "# 95% percentile of the maximum queue length\n",
    "empirical_95p = f_percentile(q_max_list)\n",
    "print(f'95% percentile: {empirical_95p}')\n",
    "bootstrap_mse_95p = bootstrap(q_max_list, f_percentile, 500)\n",
    "print(f'Bootstrapped MSE: {bootstrap_mse_95p}\\n')\n",
    "\n",
    "# Worst case of the maximum queue length\n",
    "empirical_ws = f_max(q_max_list)\n",
    "print(f'Worst case: {empirical_ws}')\n",
    "bootstrap_mse_ws = bootstrap(q_max_list, f_max, 500)\n",
    "print(f'Bootstrapped MSE: {bootstrap_mse_ws}')"
   ]
  },
  {
   "cell_type": "code",
   "execution_count": 8,
   "metadata": {},
   "outputs": [
    {
     "data": {
      "image/png": "[encoded data removed]",
      "text/plain": [
       "<Figure size 432x288 with 1 Axes>"
      ]
     },
     "metadata": {
      "needs_background": "light"
     },
     "output_type": "display_data"
    }
   ],
   "source": [
    "fig, ax = plt.subplots()\n",
    "\n",
    "ax.hist(q_max_list, density = 1, bins = 20, label = 'Draws')\n",
    "\n",
    "plt.axvline(empirical_mean, color = 'r', linestyle = 'solid', linewidth = 1, label = 'Mean')\n",
    "plt.axvline(empirical_95p, color = 'r', linestyle = 'dashed', linewidth = 1, label = '95th percentile')\n",
    "plt.axvline(empirical_ws, color = 'k', linestyle = 'dashdot', linewidth = 1, label = 'Worst case')\n",
    "\n",
    "ax.set(xlabel = 'Queue length', ylabel = 'Relative frequency', title = 'Queue simulation: maximum queue length')\n",
    "ax.legend()\n",
    "\n",
    "plt.show()"
   ]
  }
 ],
 "metadata": {
  "kernelspec": {
   "display_name": "Python 3",
   "language": "python",
   "name": "python3"
  },
  "language_info": {
   "codemirror_mode": {
    "name": "ipython",
    "version": 3
   },
   "file_extension": ".py",
   "mimetype": "text/x-python",
   "name": "python",
   "nbconvert_exporter": "python",
   "pygments_lexer": "ipython3",
   "version": "3.8.5"
  }
 },
 "nbformat": 4,
 "nbformat_minor": 2
}

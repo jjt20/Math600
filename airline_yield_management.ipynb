{
 "cells": [
  {
   "cell_type": "code",
   "execution_count": 2,
   "metadata": {},
   "outputs": [],
   "source": [
    "import numpy as np\n",
    "#np.random.seed(1234)"
   ]
  },
  {
   "cell_type": "code",
   "execution_count": 3,
   "metadata": {},
   "outputs": [],
   "source": [
    "def exponential_rng(lam=1.0):  \n",
    "    \"\"\" Generates exponential random number.\n",
    "    \n",
    "    Keywords:\n",
    "        lam (float): the rate parameter, the inverse expectation of the distribution.\n",
    "    \n",
    "    Returns:\n",
    "        exponential random number with rate lam.\n",
    "    \"\"\"\n",
    "    return -np.log(np.random.rand()) / lam"
   ]
  },
  {
   "cell_type": "code",
   "execution_count": 4,
   "metadata": {},
   "outputs": [],
   "source": [
    "def homogeneous_poisson_process(lam, T):\n",
    "    arrivals = []\n",
    "    t = exponential_rng(lam)\n",
    "    while t <= T:\n",
    "        arrivals.append(t)\n",
    "        t += exponential_rng(lam)\n",
    "    return arrivals"
   ]
  },
  {
   "cell_type": "code",
   "execution_count": 5,
   "metadata": {},
   "outputs": [],
   "source": [
    "def totalRevenue(choices):\n",
    "    \n",
    "    revenueList = [0,1000,900,850,750,700,650,600,500,350]\n",
    "    revenueList = np.flip(revenueList)\n",
    "    revenue = 0\n",
    "    for choice in choices:\n",
    "        revenue += revenueList[choice]\n",
    "        \n",
    "    return revenue"
   ]
  },
  {
   "cell_type": "code",
   "execution_count": 6,
   "metadata": {},
   "outputs": [],
   "source": [
    "def seatsSold(choices):\n",
    "    return len(choices) - np.sum(np.array(choices) == 9)"
   ]
  },
  {
   "cell_type": "code",
   "execution_count": 7,
   "metadata": {},
   "outputs": [],
   "source": [
    "lam_business = lambda t: 1.2*np.sin(t*np.pi/180.0)\n",
    "lam_max_business = 1.2\n",
    "lam_leisure = lambda t: 0.6*t/179\n",
    "lam_max_leisure = 0.6\n",
    "lam_economy = lambda t: 0.8*(1 + np.sin(t*np.pi/180.0 + np.pi))\n",
    "lam_max_economy = 0.8\n",
    "\n",
    "def non_homogeneous_poisson_process(lam_t, lam_max, T):\n",
    "    arrivals = []\n",
    "    t = exponential_rng(lam_max)\n",
    "    while t <= T:\n",
    "        if np.random.rand() < lam_t(t)/lam_max:\n",
    "            arrivals.append(t)\n",
    "        t += exponential_rng(lam_max)\n",
    "    return arrivals"
   ]
  },
  {
   "cell_type": "code",
   "execution_count": 13,
   "metadata": {},
   "outputs": [],
   "source": [
    "class Passenger:\n",
    "    \"\"\" Generic event.\n",
    "    \n",
    "    Attributes:\n",
    "        time (float): Event time.\n",
    "        preferences (array): fare product preference weights.\n",
    "    \"\"\"\n",
    "    \n",
    "    def __init__(self, time):\n",
    "        self.time = time\n",
    "        self.preferences = np.zeros(10)\n",
    "        \n",
    "    def makeChoice(self,availabilities):\n",
    "        \n",
    "        probabilities = self.preferences*(availabilities > 0)\n",
    "        probabilities = probabilities/np.sum(probabilities)\n",
    "        \n",
    "        cumsum = np.cumsum(probabilities)\n",
    "        \n",
    "        r = np.random.rand()\n",
    "        \n",
    "        choice = np.min(np.where(r < cumsum ))\n",
    "        \n",
    "        return choice\n",
    "    \n",
    "    def makeIdealChoice(self):\n",
    "        \n",
    "        probabilities = self.preferences\n",
    "        probabilities = probabilities/np.sum(probabilities)\n",
    "        \n",
    "        cumsum = np.cumsum(probabilities)\n",
    "        \n",
    "        r = np.random.rand()\n",
    "        \n",
    "        choice = np.min(np.where(r < cumsum ))\n",
    "        \n",
    "        return choice\n",
    "        \n",
    "        \n",
    "        \n",
    "class Business(Passenger):\n",
    "\n",
    "    def __init__(self, time):\n",
    "        super().__init__(time)\n",
    "        self.preferences = np.array([11, 15, 18, 20, 19, 15, 12, 11, 13, 7])\n",
    "        \n",
    "    def makeChoice(self,availabilities):\n",
    "        return Passenger.makeChoice(self,availabilities)\n",
    "    \n",
    "    def makeIdealChoice(self):\n",
    "        return Passenger.makeIdealChoice(self)\n",
    "        \n",
    "class Leisure(Passenger):\n",
    "\n",
    "    def __init__(self, time):\n",
    "        super().__init__(time)\n",
    "        self.preferences = np.array([8, 9, 11, 12, 14, 15, 16, 18, 20, 7])\n",
    "        \n",
    "    def makeChoice(self,availabilities):\n",
    "        return Passenger.makeChoice(self,availabilities)\n",
    "    \n",
    "    def makeIdealChoice(self):\n",
    "        return Passenger.makeIdealChoice(self)\n",
    "        \n",
    "class Economy(Passenger):\n",
    "\n",
    "    def __init__(self, time):\n",
    "        super().__init__(time)\n",
    "        self.preferences = np.array([1, 5, 8, 10, 11, 12, 13, 15, 20, 7])\n",
    "        \n",
    "    def makeChoice(self,availabilities):\n",
    "        return Passenger.makeChoice(self,availabilities)\n",
    "    \n",
    "    def makeIdealChoice(self):\n",
    "        return Passenger.makeIdealChoice(self)"
   ]
  },
  {
   "cell_type": "code",
   "execution_count": 14,
   "metadata": {},
   "outputs": [],
   "source": [
    "class Scenario:\n",
    "    \"\"\" Road scenario\n",
    "    \n",
    "    Attributes:\n",
    "        planning_horizon (int): days.\n",
    "        t (int): early sales discount\n",
    "        lam_business (float):\n",
    "        lam_leisure (float):\n",
    "        lam_economy (float):\n",
    "    \"\"\"\n",
    "    \n",
    "    def __init__(self, \n",
    "                 planning_horizon=180,\n",
    "                 t=21,\n",
    "                 lam_business=1.2,\n",
    "                 lam_leisure=0.6,\n",
    "                 lam_economy=0.8,\n",
    "                 flag=0 # 1 if we want to offer 1 product at a time \n",
    "                ):\n",
    "        self.planning_horizon = planning_horizon\n",
    "        self.t = t\n",
    "        self.lam_business = lam_business\n",
    "        self.lam_leisure = lam_leisure\n",
    "        self.lam_economy = lam_economy\n",
    "        self.flag = flag"
   ]
  },
  {
   "cell_type": "code",
   "execution_count": 32,
   "metadata": {},
   "outputs": [],
   "source": [
    "def simulate(scenario):\n",
    "    \"\"\" Implements the simulation procedure.\n",
    "    \n",
    "    Keywords:\n",
    "        scenario (Scenario): Road scenario.\n",
    "    \n",
    "    Returns:\n",
    "        times (list): Event times. \n",
    "        queues (list): Queue length over time. \n",
    "    \"\"\"\n",
    "    \n",
    "    #Initialise the simulation\n",
    "    t = 179\n",
    "    events = []\n",
    "    \n",
    "    fare_offered = -1\n",
    "    \n",
    "    if scenario.flag:\n",
    "        availabilities = np.zeros([10])\n",
    "        fare_offered = 8 # The last element is \"no purchase\" so it is never offered\n",
    "        availabilities[fare_offered] = 20 # Start from fare I and offer one at a time up to fare A\n",
    "    else:\n",
    "        availabilities = 20*np.ones([10])\n",
    "        \n",
    "    \n",
    "    \n",
    "    availabilities[-1] = np.Inf # We can offer infinitely many non-purchases\n",
    "    revenues = 0\n",
    "    \n",
    "    #Trigger the first events\n",
    "    \n",
    "    # Generate customer arrivals\n",
    "    business_arrival_process = non_homogeneous_poisson_process(lam_business, lam_max_business, t)\n",
    "    for i in business_arrival_process:\n",
    "        events.append(Business(i))\n",
    "    \n",
    "    leisure_arrival_process = non_homogeneous_poisson_process(lam_leisure, lam_max_leisure, t)\n",
    "    for i in leisure_arrival_process:\n",
    "        events.append(Leisure(i))\n",
    "    \n",
    "    economy_arrival_process = non_homogeneous_poisson_process(lam_economy, lam_max_economy, t)\n",
    "    for i in economy_arrival_process:\n",
    "        events.append(Economy(i))\n",
    "        \n",
    "    events.sort(key=lambda event: event.time)\n",
    "    \n",
    "    '''\n",
    "    termination = Termination(scenario.demand_duration)\n",
    "    events = [generation, termination]\n",
    "    '''\n",
    "    choices = []\n",
    "    idealChoices = []\n",
    "    \n",
    "    #Main loop\n",
    "    while len(events):\n",
    "        \n",
    "        t = events[0].time\n",
    "        \n",
    "        e = events[0]\n",
    "        \n",
    "        choice = e.makeChoice(availabilities)\n",
    "        choices.append(choice)\n",
    "        \n",
    "        idealChoice = e.makeIdealChoice()\n",
    "        idealChoices.append(idealChoice)\n",
    "        \n",
    "        availabilities[choice] -= 1\n",
    "        \n",
    "        \n",
    "        if scenario.flag:\n",
    "            if availabilities[fare_offered] == 0 and fare_offered !=0:\n",
    "                fare_offered -= 1\n",
    "                availabilities[fare_offered] = 20\n",
    "                \n",
    "        if t < 21:\n",
    "            availabilities[3] = 0\n",
    "            availabilities[7] = 0\n",
    "            \n",
    "            if fare_offered == 3 or fare_offered == 7:\n",
    "                fare_offered -= 1\n",
    "                \n",
    "                if scenario.flag:\n",
    "                    availabilities[fare_offered] = 20\n",
    "            \n",
    "        \n",
    "            \n",
    "        events.pop(0)\n",
    "    \n",
    "        \n",
    "    return choices, idealChoices"
   ]
  },
  {
   "cell_type": "code",
   "execution_count": 33,
   "metadata": {},
   "outputs": [],
   "source": [
    "choices,idealChoices = simulate(Scenario(1))"
   ]
  },
  {
   "cell_type": "code",
   "execution_count": 34,
   "metadata": {},
   "outputs": [
    {
     "name": "stdout",
     "output_type": "stream",
     "text": [
      "95000\n"
     ]
    }
   ],
   "source": [
    "print(totalRevenue(choices))"
   ]
  },
  {
   "cell_type": "code",
   "execution_count": 35,
   "metadata": {},
   "outputs": [
    {
     "name": "stdout",
     "output_type": "stream",
     "text": [
      "140\n"
     ]
    }
   ],
   "source": [
    "print(seatsSold(choices))"
   ]
  },
  {
   "cell_type": "code",
   "execution_count": 36,
   "metadata": {},
   "outputs": [],
   "source": [
    "seats_available=180"
   ]
  },
  {
   "cell_type": "code",
   "execution_count": 37,
   "metadata": {},
   "outputs": [
    {
     "name": "stdout",
     "output_type": "stream",
     "text": [
      "[8, 9, 8, 3, 6, 3, 7, 6, 8, 8, 2, 6, 5, 8, 3, 4, 3, 4, 3, 6, 4, 7, 7, 9, 8, 8, 8, 1, 2, 0, 3, 6, 4, 0, 7, 4, 1, 5, 6, 5, 8, 1, 5, 8, 1, 2, 2, 5, 4, 8, 8, 9, 0, 4, 6, 0, 1, 2, 5, 9, 6, 3, 3, 6, 6, 1, 0, 4, 5, 8, 0, 5, 2, 0, 5, 5, 2, 0, 0, 0, 2, 3, 4, 7, 1, 6, 6, 2, 1, 2, 4, 8, 8, 7, 8, 2, 1, 6, 6, 1, 6, 2, 7, 1, 4, 0, 5, 0, 6, 9, 0, 8, 0, 5, 5, 8, 1, 3, 0, 6, 4, 6, 1, 5, 8, 0, 0, 3, 4, 6, 2, 7, 4, 4, 2, 0, 5, 3, 3, 8, 8, 8, 2, 9, 8, 8, 1, 6, 0, 3, 1, 1, 4, 6, 2, 2, 2, 1, 8, 7, 8, 1, 4, 8, 1, 4, 1, 4, 5, 5, 4, 6, 1, 2, 4, 7, 2, 7, 2, 5, 6, 2, 1, 6, 8, 2, 5, 2, 7, 5, 3, 1, 9, 1, 6, 5, 2, 9, 8, 5, 3, 1, 2, 4, 2, 5, 6, 1, 6, 8, 6, 7, 3, 8, 7, 7, 1, 8, 6, 5, 6, 9, 9, 9, 5, 6, 2, 2, 7, 0, 8, 3, 6, 3, 8, 2, 3, 2, 4, 7, 7, 2, 6, 2, 3, 3, 1]\n"
     ]
    }
   ],
   "source": [
    "print(idealChoices)"
   ]
  },
  {
   "cell_type": "code",
   "execution_count": 38,
   "metadata": {},
   "outputs": [
    {
     "name": "stdout",
     "output_type": "stream",
     "text": [
      "168200\n"
     ]
    }
   ],
   "source": [
    "print(totalRevenue(idealChoices))"
   ]
  },
  {
   "cell_type": "code",
   "execution_count": 39,
   "metadata": {},
   "outputs": [
    {
     "name": "stdout",
     "output_type": "stream",
     "text": [
      "247\n"
     ]
    }
   ],
   "source": [
    "print(len (idealChoices))"
   ]
  },
  {
   "cell_type": "code",
   "execution_count": 40,
   "metadata": {},
   "outputs": [
    {
     "name": "stdout",
     "output_type": "stream",
     "text": [
      "247\n"
     ]
    }
   ],
   "source": [
    "print(len (choices))"
   ]
  },
  {
   "cell_type": "code",
   "execution_count": 42,
   "metadata": {},
   "outputs": [
    {
     "name": "stdout",
     "output_type": "stream",
     "text": [
      "236\n"
     ]
    }
   ],
   "source": [
    "print (seatsSold(idealChoices))"
   ]
  },
  {
   "cell_type": "code",
   "execution_count": null,
   "metadata": {},
   "outputs": [],
   "source": []
  }
 ],
 "metadata": {
  "kernelspec": {
   "display_name": "Python 3",
   "language": "python",
   "name": "python3"
  },
  "language_info": {
   "codemirror_mode": {
    "name": "ipython",
    "version": 3
   },
   "file_extension": ".py",
   "mimetype": "text/x-python",
   "name": "python",
   "nbconvert_exporter": "python",
   "pygments_lexer": "ipython3",
   "version": "3.8.2"
  }
 },
 "nbformat": 4,
 "nbformat_minor": 4
}
